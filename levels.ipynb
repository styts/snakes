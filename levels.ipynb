{
 "metadata": {
  "name": "levels"
 },
 "nbformat": 3,
 "worksheets": [
  {
   "cells": [
    {
     "cell_type": "code",
     "collapsed": false,
     "input": [
      "import glob",
      "import sys",
      "import pickle",
      "import os",
      "from src.logic.state import State",
      "sys.path.append('src')",
      "",
      "s = State()",
      "for m in glob.glob('data/maps/*.json'):",
      "    #print m",
      "    s.load_from_json(\"\".join(open(m,'r').readlines()))",
      "    h = s.__hash__()",
      "    p = 'data/graphs/%s.pickle' % h",
      "    if os.path.exists(p):",
      "        (tmp_gr, tmp_sols) = pickle.load(open(p,'rb'))",
      "        print \"# MAP %s has \\t\\t\\t\\t %s solutions\" % (m, tmp_sols[0].__len__()-1)",
      "    else:",
      "        print \"# ERROR: %s not exists (from map %s)\" % (p, m)",
      "        print \"rm %s\" % m",
      "        print \"rm %s\" % p",
      "    "
     ],
     "language": "python",
     "outputs": [
      {
       "output_type": "stream",
       "stream": "stdout",
       "text": [
        "MAP data/maps/n12-s3-9551f31b71946d645ef18f6132338162.json has \t\t\t\t 23 solutions",
        "ERROR: data/graphs/3b57bb83e9ec52b06e16ca6bf352503b.pickle not exists (from map data/maps/n12-s4-3b57bb83e9ec52b06e16ca6bf352503b.json)",
        "ERROR: data/graphs/bf84d838abb5b663cb28d7e06de6f2bc.pickle not exists (from map data/maps/n12-s4-bf84d838abb5b663cb28d7e06de6f2bc.json)",
        "MAP data/maps/n3-s2.json has \t\t\t\t 8 solutions",
        "MAP data/maps/n3-s3.json has \t\t\t\t 6 solutions",
        "MAP data/maps/n4-s3-0bb0db5928a72c616b62dd2a3705b8d9.json has \t\t\t\t 13 solutions",
        "MAP data/maps/n4-s3-60b3a7c0de.json has \t\t\t\t 20 solutions"
       ]
      },
      {
       "output_type": "stream",
       "stream": "stdout",
       "text": [
        "",
        "MAP data/maps/n4-s3-984a283412.json has \t\t\t\t 12 solutions",
        "MAP data/maps/n4-s4-ac5804c789.json has \t\t\t\t 10 solutions"
       ]
      },
      {
       "output_type": "stream",
       "stream": "stdout",
       "text": [
        "",
        "MAP data/maps/n5-s1-b473aad3509b748e2e9bab8861d1757b.json has \t\t\t\t 5 solutions",
        "MAP data/maps/n5-s2-c59db6b6fc.json has \t\t\t\t 15 solutions",
        "MAP data/maps/n5-s3-43a2d5e6e0.json has \t\t\t\t 32 solutions"
       ]
      },
      {
       "output_type": "stream",
       "stream": "stdout",
       "text": [
        "",
        "MAP data/maps/n5-s3-c6a7c3dd07.json has \t\t\t\t 15 solutions"
       ]
      },
      {
       "output_type": "stream",
       "stream": "stdout",
       "text": [
        "",
        "MAP data/maps/n5-s3-d1e0db4160.json has \t\t\t\t 21 solutions"
       ]
      },
      {
       "output_type": "stream",
       "stream": "stdout",
       "text": [
        "",
        "ERROR: data/graphs/c1a968bb8f468406405c96a9fb4cd977.pickle not exists (from map data/maps/n5-s4-c1a968bb8f.json)",
        "ERROR: data/graphs/30d16a559b33d0de3cf2138b2a1a8c8e.pickle not exists (from map data/maps/n5-s5-30d16a559b.json)",
        "ERROR: data/graphs/9fcda40f763016ca1b47f40136cd1ba8.pickle not exists (from map data/maps/n5-s5-9fcda40f76.json)",
        "MAP data/maps/n6-s2-55c969dac9.json has \t\t\t\t 11 solutions"
       ]
      },
      {
       "output_type": "stream",
       "stream": "stdout",
       "text": [
        "",
        "MAP data/maps/n6-s3-7f8e8bacf5.json has \t\t\t\t 34 solutions"
       ]
      },
      {
       "output_type": "stream",
       "stream": "stdout",
       "text": [
        "",
        "MAP data/maps/n6-s3-c58c3bcb90.json has \t\t\t\t 23 solutions"
       ]
      },
      {
       "output_type": "stream",
       "stream": "stdout",
       "text": [
        "",
        "ERROR: data/graphs/33c41db7e7e905f09a407694f74de591.pickle not exists (from map data/maps/n6-s4-33c41db7e7.json)",
        "MAP data/maps/n6-s4-605af9092f.json has \t\t\t\t 40 solutions"
       ]
      },
      {
       "output_type": "stream",
       "stream": "stdout",
       "text": [
        "",
        "MAP data/maps/n7-s3-8639eabf6e70aa25cb45ac4e3910cdc2.json has \t\t\t\t 16 solutions"
       ]
      },
      {
       "output_type": "stream",
       "stream": "stdout",
       "text": [
        "",
        "ERROR: data/graphs/60f0fb1574d668c95a8872543bc2b239.pickle not exists (from map data/maps/tempstate.json)"
       ]
      }
     ],
     "prompt_number": 9
    }
   ]
  }
 ]
}