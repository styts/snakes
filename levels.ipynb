{
 "metadata": {
  "name": "levels"
 },
 "nbformat": 3,
 "worksheets": [
  {
   "cells": [
    {
     "cell_type": "code",
     "collapsed": false,
     "input": [
      "import glob",
      "import sys",
      "import pickle",
      "import os",
      "from src.logic.state import State",
      "sys.path.append('src')",
      "",
      "",
      "",
      "def foo(s,m):",
      "    \"\"\" Remove unsolvable levels (generate shell commands)\"\"\"",
      "    h = s.__hash__()",
      "    p = 'data/graphs/%s.pickle' % h",
      "    if os.path.exists(p):",
      "        (tmp_gr, tmp_sols) = pickle.load(open(p,'rb'))",
      "        print \"# MAP %s has \\t %s solutions\" % (m, tmp_sols[0].__len__()-1)",
      "    else:",
      "        print \"# ERROR: %s not exists (from map %s)\" % (p, m)",
      "        print \"rm %s\" % m",
      "        print \"rm %s\" % p",
      "",
      "def rename(s,m):",
      "    n_snakes = s.snakes.__len__()",
      "    h = s.__hash__()",
      "    p = 'data/graphs/%s.pickle' % h",
      "    (tmp_gr, tmp_sols) = pickle.load(open(p,'rb'))",
      "    order = tmp_gr.order()",
      "    short = tmp_sols[0].__len__()-1",
      "    newfile = \"/data/maps/%s_%s-%s.json\" % (order, n_snakes, short)",
      "    print \"mv /data/maps/%s %s\" % (m, newfile)",
      "",
      "s = State()",
      "for m in glob.glob('data/maps/*.json'):",
      "    s.load_from_json(\"\".join(open(m,'r').readlines()))",
      "    #foo(s,m)",
      "    rename(s,m)",
      "    "
     ],
     "language": "python",
     "outputs": [
      {
       "output_type": "stream",
       "stream": "stdout",
       "text": [
        "mv /data/maps/data/maps/n12-s3-9551f31b71946d645ef18f6132338162.json /data/maps/3_23-2788.json",
        "mv /data/maps/data/maps/n3-s2.json /data/maps/2_8-36.json",
        "mv /data/maps/data/maps/n3-s3.json /data/maps/3_6-42.json",
        "mv /data/maps/data/maps/n4-s3-0bb0db5928a72c616b62dd2a3705b8d9.json /data/maps/3_13-342.json",
        "mv /data/maps/data/maps/n4-s3-60b3a7c0de.json /data/maps/3_20-4496.json"
       ]
      },
      {
       "output_type": "stream",
       "stream": "stdout",
       "text": [
        "",
        "mv /data/maps/data/maps/n4-s3-984a283412.json /data/maps/3_12-229.json",
        "mv /data/maps/data/maps/n4-s4-ac5804c789.json /data/maps/4_10-340.json",
        "mv /data/maps/data/maps/n5-s1-b473aad3509b748e2e9bab8861d1757b.json /data/maps/1_5-22.json"
       ]
      },
      {
       "output_type": "stream",
       "stream": "stdout",
       "text": [
        "",
        "mv /data/maps/data/maps/n5-s2-c59db6b6fc.json /data/maps/2_15-320.json",
        "mv /data/maps/data/maps/n5-s3-43a2d5e6e0.json /data/maps/3_32-7916.json"
       ]
      },
      {
       "output_type": "stream",
       "stream": "stdout",
       "text": [
        "",
        "mv /data/maps/data/maps/n5-s3-c6a7c3dd07.json /data/maps/3_15-19736.json"
       ]
      },
      {
       "output_type": "stream",
       "stream": "stdout",
       "text": [
        "",
        "mv /data/maps/data/maps/n5-s3-d1e0db4160.json /data/maps/3_21-8188.json"
       ]
      },
      {
       "output_type": "stream",
       "stream": "stdout",
       "text": [
        "",
        "mv /data/maps/data/maps/n6-s2-55c969dac9.json /data/maps/2_11-2230.json"
       ]
      },
      {
       "output_type": "stream",
       "stream": "stdout",
       "text": [
        "",
        "mv /data/maps/data/maps/n6-s3-7f8e8bacf5.json /data/maps/3_34-11400.json"
       ]
      },
      {
       "output_type": "stream",
       "stream": "stdout",
       "text": [
        "",
        "mv /data/maps/data/maps/n6-s3-c58c3bcb90.json /data/maps/3_23-2788.json"
       ]
      },
      {
       "output_type": "stream",
       "stream": "stdout",
       "text": [
        "",
        "mv /data/maps/data/maps/n6-s4-605af9092f.json /data/maps/4_40-25880.json"
       ]
      },
      {
       "output_type": "stream",
       "stream": "stdout",
       "text": [
        "",
        "mv /data/maps/data/maps/n7-s3-8639eabf6e70aa25cb45ac4e3910cdc2.json /data/maps/3_16-1960.json"
       ]
      },
      {
       "output_type": "stream",
       "stream": "stdout",
       "text": [
        ""
       ]
      }
     ],
     "prompt_number": 18
    },
    {
     "cell_type": "code",
     "collapsed": false,
     "input": [
      "import string",
      "print string.lowercase"
     ],
     "language": "python",
     "outputs": [
      {
       "output_type": "stream",
       "stream": "stdout",
       "text": [
        "abcdefghijklmnopqrstuvwxyz"
       ]
      }
     ],
     "prompt_number": 21
    }
   ]
  }
 ]
}