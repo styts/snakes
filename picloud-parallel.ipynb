{
 "metadata": {
  "name": "picloud-parallel"
 },
 "nbformat": 3,
 "worksheets": [
  {
   "cells": [
    {
     "cell_type": "code",
     "collapsed": false,
     "input": [
      "# take the .json file in maps/ and process them in the cloud, saving the graphs(.pickle & .png) in bucket \"graphs\"",
      "import glob, os, cloud",
      "from src.solve.utils import process_json",
      "",
      "def read_json(fn):",
      "    json_data = open(fn,'r').readlines()",
      "    json_data = \"\\n\".join(json_data)",
      "    return json_data",
      "    ",
      "maps = glob.glob(os.path.join(os.getcwd(),'data','maps')+\"/*.json\")",
      "jsons = map(read_json, maps)",
      "jobs = cloud.map(process_json, jsons, use_cloud=True, _env='pygame_env', _type=\"c2\", _vol=['graphs'])",
      "print jobs"
     ],
     "language": "python",
     "outputs": [
      {
       "output_type": "stream",
       "stream": "stdout",
       "text": [
        "xrange(104, 127)"
       ]
      }
     ],
     "prompt_number": 3
    },
    {
     "cell_type": "code",
     "collapsed": false,
     "input": [
      "# sync home the results",
      "import cloud",
      "cloud.volume.sync(\"graphs:\",\"graphs/\")"
     ],
     "language": "python",
     "outputs": [],
     "prompt_number": 25
    }
   ]
  }
 ]
}