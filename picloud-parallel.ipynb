{
 "metadata": {
  "name": "picloud-parallel"
 },
 "nbformat": 3,
 "worksheets": [
  {
   "cells": [
    {
     "cell_type": "code",
     "collapsed": false,
     "input": [
      "# take the .json file in maps/ and process them in the cloud, saving the graphs(.pickle & .png) in bucket \"graphs\"",
      "import glob, os, cloud",
      "from src.solve.utils import _process",
      "",
      "def read_json(fn):",
      "    json_data = open(fn,'r').readlines()",
      "    json_data = \"\\n\".join(json_data)",
      "    return json_data",
      "    ",
      "maps = glob.glob(os.path.join(os.getcwd(),'data','maps')+\"/*.json\")",
      "jsons = map(read_json, maps)",
      "jobs = cloud.map(_process, jsons, _env='pygame_env', _type=\"m1\") ####### M1 #########",
      "print jobs"
     ],
     "language": "python",
     "outputs": [
      {
       "output_type": "stream",
       "stream": "stdout",
       "text": [
        "xrange(316, 340)"
       ]
      }
     ],
     "prompt_number": 2
    },
    {
     "cell_type": "code",
     "collapsed": false,
     "input": [
      "# sync home the results",
      "import cloud",
      "cloud.volume.sync(\"graphs:\",\"data/graphs/\")"
     ],
     "language": "python",
     "outputs": [],
     "prompt_number": 2
    },
    {
     "cell_type": "code",
     "collapsed": false,
     "input": [
      "# einzeln",
      "import cloud",
      "from src.solve.utils import _process",
      "",
      "#fn='data/maps/n12-s3-9551f31b71946d645ef18f6132338162.json'",
      "fn='n4-s3-984a283412.json' #simpler",
      "d = \"\\n\".join(open(\"data/maps/%s\"%fn).readlines())",
      "jid = cloud.call(_process, d, _type=\"f2\", _env='pygame_env', _label=fn) # _profile=True,",
      "print jid"
     ],
     "language": "python",
     "outputs": [
      {
       "output_type": "stream",
       "stream": "stdout",
       "text": [
        "267"
       ]
      }
     ],
     "prompt_number": 3
    },
    {
     "cell_type": "code",
     "collapsed": false,
     "input": [
      "# sync home",
      "import cloud",
      "for f in cloud.files.list():",
      "    print f",
      "    cloud.files.get(f,\"data/graphs/%s\"%f)",
      "    #if '.png' in f:",
      "    #cloud.files.delete(f)"
     ],
     "language": "python",
     "outputs": [
      {
       "output_type": "stream",
       "stream": "stdout",
       "text": [
        "0bb0db5928a72c616b62dd2a3705b8d9.pickle",
        "0bb0db5928a72c616b62dd2a3705b8d9.png"
       ]
      },
      {
       "output_type": "stream",
       "stream": "stdout",
       "text": [
        "",
        "43a2d5e6e038060714b3ab1c4a7508c2.pickle"
       ]
      },
      {
       "output_type": "stream",
       "stream": "stdout",
       "text": [
        "",
        "43a2d5e6e038060714b3ab1c4a7508c2.png"
       ]
      },
      {
       "output_type": "stream",
       "stream": "stdout",
       "text": [
        "",
        "55c969dac979d0af20ff9bc9d11895d2.pickle"
       ]
      },
      {
       "output_type": "stream",
       "stream": "stdout",
       "text": [
        "",
        "55c969dac979d0af20ff9bc9d11895d2.png"
       ]
      },
      {
       "output_type": "stream",
       "stream": "stdout",
       "text": [
        "",
        "605af9092f5851dc278d435a0e7c265d.pickle"
       ]
      },
      {
       "output_type": "stream",
       "stream": "stdout",
       "text": [
        "",
        "605af9092f5851dc278d435a0e7c265d.png"
       ]
      },
      {
       "output_type": "stream",
       "stream": "stdout",
       "text": [
        "",
        "60b3a7c0deb705e3cae20fa5ba539d53.pickle"
       ]
      },
      {
       "output_type": "stream",
       "stream": "stdout",
       "text": [
        "",
        "60b3a7c0deb705e3cae20fa5ba539d53.png"
       ]
      },
      {
       "output_type": "stream",
       "stream": "stdout",
       "text": [
        "",
        "748b7564f58ae8dbe183a2c222cb7bf7.pickle"
       ]
      },
      {
       "output_type": "stream",
       "stream": "stdout",
       "text": [
        "",
        "748b7564f58ae8dbe183a2c222cb7bf7.png"
       ]
      },
      {
       "output_type": "stream",
       "stream": "stdout",
       "text": [
        "",
        "7f8e8bacf5387166c0a0de2b11213ce6.pickle"
       ]
      },
      {
       "output_type": "stream",
       "stream": "stdout",
       "text": [
        "",
        "7f8e8bacf5387166c0a0de2b11213ce6.png"
       ]
      },
      {
       "output_type": "stream",
       "stream": "stdout",
       "text": [
        "",
        "8639eabf6e70aa25cb45ac4e3910cdc2.pickle"
       ]
      },
      {
       "output_type": "stream",
       "stream": "stdout",
       "text": [
        "",
        "8639eabf6e70aa25cb45ac4e3910cdc2.png"
       ]
      },
      {
       "output_type": "stream",
       "stream": "stdout",
       "text": [
        "",
        "9551f31b71946d645ef18f6132338162.pickle"
       ]
      },
      {
       "output_type": "stream",
       "stream": "stdout",
       "text": [
        "",
        "9551f31b71946d645ef18f6132338162.png"
       ]
      },
      {
       "output_type": "stream",
       "stream": "stdout",
       "text": [
        "",
        "984a283412edbf7bd814e383fa95bdd9.pickle"
       ]
      },
      {
       "output_type": "stream",
       "stream": "stdout",
       "text": [
        "",
        "984a283412edbf7bd814e383fa95bdd9.png"
       ]
      },
      {
       "output_type": "stream",
       "stream": "stdout",
       "text": [
        "",
        "a075793e9125be39a314f500eac840a9.pickle"
       ]
      },
      {
       "output_type": "stream",
       "stream": "stdout",
       "text": [
        "",
        "a075793e9125be39a314f500eac840a9.png"
       ]
      },
      {
       "output_type": "stream",
       "stream": "stdout",
       "text": [
        "",
        "ac5804c789e6e03c595471cf7b13eed3.pickle"
       ]
      },
      {
       "output_type": "stream",
       "stream": "stdout",
       "text": [
        "",
        "ac5804c789e6e03c595471cf7b13eed3.png"
       ]
      },
      {
       "output_type": "stream",
       "stream": "stdout",
       "text": [
        "",
        "b473aad3509b748e2e9bab8861d1757b.pickle"
       ]
      },
      {
       "output_type": "stream",
       "stream": "stdout",
       "text": [
        "",
        "b473aad3509b748e2e9bab8861d1757b.png"
       ]
      },
      {
       "output_type": "stream",
       "stream": "stdout",
       "text": [
        "",
        "c58c3bcb90927b0dae3139ffa3d94b18.pickle"
       ]
      },
      {
       "output_type": "stream",
       "stream": "stdout",
       "text": [
        "",
        "c58c3bcb90927b0dae3139ffa3d94b18.png"
       ]
      },
      {
       "output_type": "stream",
       "stream": "stdout",
       "text": [
        "",
        "c59db6b6fcdc254319ce0d808579c70d.pickle"
       ]
      },
      {
       "output_type": "stream",
       "stream": "stdout",
       "text": [
        "",
        "c59db6b6fcdc254319ce0d808579c70d.png"
       ]
      },
      {
       "output_type": "stream",
       "stream": "stdout",
       "text": [
        "",
        "c6a7c3dd07af9e0fd001c19bd5b4ae41.pickle"
       ]
      },
      {
       "output_type": "stream",
       "stream": "stdout",
       "text": [
        "",
        "c6a7c3dd07af9e0fd001c19bd5b4ae41.png"
       ]
      },
      {
       "output_type": "stream",
       "stream": "stdout",
       "text": [
        "",
        "d1e0db4160c55f758a205182f10383c0.pickle"
       ]
      },
      {
       "output_type": "stream",
       "stream": "stdout",
       "text": [
        "",
        "d1e0db4160c55f758a205182f10383c0.png"
       ]
      },
      {
       "output_type": "stream",
       "stream": "stdout",
       "text": []
      }
     ],
     "prompt_number": 2
    }
   ]
  }
 ]
}