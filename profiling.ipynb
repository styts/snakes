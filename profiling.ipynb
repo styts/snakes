{
 "metadata": {
  "name": "profiling"
 },
 "nbformat": 3,
 "worksheets": [
  {
   "cells": [
    {
     "cell_type": "code",
     "collapsed": false,
     "input": [
      "import sys, pygame",
      "sys.path.append(\"src\")",
      "",
      "from src.engine.app import App",
      "%prun app = App(None)"
     ],
     "language": "python",
     "outputs": [
      {
       "output_type": "stream",
       "stream": "stdout",
       "text": []
      }
     ],
     "prompt_number": 1
    }
   ]
  }
 ]
}