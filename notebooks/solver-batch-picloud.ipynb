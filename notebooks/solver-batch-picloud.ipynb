{
 "metadata": {
  "name": "solver-batch-picloud"
 },
 "nbformat": 3,
 "worksheets": [
  {
   "cells": [
    {
     "cell_type": "code",
     "collapsed": false,
     "input": [
      "### cloud or local ###",
      "use_cloud = True",
      "#use_cloud = False",
      "",
      "from src.logic.state import State",
      "s = State()",
      "",
      "from src.solve.solver import Solver",
      "slv = Solver(quit_on_first=False,use_cloud=use_cloud)"
     ],
     "language": "python",
     "outputs": [
      {
       "output_type": "stream",
       "stream": "stderr",
       "text": [
        "Exception TypeError: \"'NoneType' object is not iterable\" in "
       ]
      }
     ],
     "prompt_number": 7
    },
    {
     "cell_type": "code",
     "collapsed": false,
     "input": [
      "from src.solve.utils import process_json"
     ],
     "language": "python",
     "outputs": [
      {
       "ename": "IndentationError",
       "evalue": "unexpected indent (utils.py, line 6)",
       "output_type": "pyerr",
       "traceback": [
        "\u001b[0;31m---------------------------------------------------------------------------\u001b[0m\n\u001b[0;31mIndentationError\u001b[0m                          Traceback (most recent call last)",
        "\u001b[0;32m/Users/kirill/Backup/projects/snakes2/<ipython-input-3-46e67c510e88>\u001b[0m in \u001b[0;36m<module>\u001b[0;34m()\u001b[0m\n\u001b[0;32m----> 1\u001b[0;31m \u001b[0;32mfrom\u001b[0m \u001b[0msrc\u001b[0m\u001b[0;34m.\u001b[0m\u001b[0msolve\u001b[0m\u001b[0;34m.\u001b[0m\u001b[0mutils\u001b[0m \u001b[0;32mimport\u001b[0m \u001b[0mprocess_json\u001b[0m\u001b[0;34m\u001b[0m\u001b[0m\n\u001b[0m",
        "\u001b[0;31mIndentationError\u001b[0m: unexpected indent (utils.py, line 6)"
       ]
      }
     ],
     "prompt_number": 3
    },
    {
     "cell_type": "code",
     "collapsed": false,
     "input": [
      "import cloud ",
      "",
      "def process(json_data):",
      "    global s, slv",
      "    s.load_from_json(json_data)",
      "    slv.set_state(s)",
      "    sols = slv.solve()",
      "    slv.draw_graph(filename='tmp/%s.png' % s.__hash__())",
      "",
      "import glob, os",
      "maps = glob.glob(os.path.join(os.getcwd(),'data','maps')+\"/*.json\")",
      "for fn in maps[:1]:",
      "    print fn",
      "    json_data = open(fn,'r').readlines()",
      "    json_data = \"\\n\".join(json_data)",
      "    print json_data",
      "    if not use_cloud:",
      "        process(json_data)",
      "    else:",
      "        pid = cloud.call(process, json_data, _env='pygame_env', _vol=['graphs'])",
      "        print pid"
     ],
     "language": "python",
     "outputs": [
      {
       "output_type": "stream",
       "stream": "stdout",
       "text": [
        "/Users/kirill/Backup/projects/snakes2/data/maps/n3-s2.json",
        "{\"map\": [[\"g\", 1, 0], [\"g\", 0, 0], [\"g\", 0, 0]], \"snakes\": [{\"color\": \"B\", \"elements\": [[1, 1], [2, 1], [2, 0]]}, {\"color\": \"G\", \"elements\": [[0, 2], [1, 2], [2, 2]]}]}",
        "22"
       ]
      },
      {
       "output_type": "stream",
       "stream": "stdout",
       "text": [
        ""
       ]
      }
     ],
     "prompt_number": 8
    },
    {
     "cell_type": "code",
     "collapsed": false,
     "input": [
      "print cloud.status(pid)",
      "cloud.result(pid)"
     ],
     "language": "python",
     "outputs": [
      {
       "output_type": "stream",
       "stream": "stdout",
       "text": [
        "done"
       ]
      }
     ],
     "prompt_number": 5
    },
    {
     "cell_type": "code",
     "collapsed": false,
     "input": [
      "l = cloud.files.list()"
     ],
     "language": "python",
     "outputs": [],
     "prompt_number": 7
    },
    {
     "cell_type": "code",
     "collapsed": false,
     "input": [
      "# synchronize your local folder with the remote volume",
      "cloud.volume.sync('~/stockdata/')"
     ],
     "language": "python",
     "outputs": [
      {
       "ename": "TypeError",
       "evalue": "sync() takes exactly 2 arguments (1 given)",
       "output_type": "pyerr",
       "traceback": [
        "\u001b[0;31m---------------------------------------------------------------------------\u001b[0m\n\u001b[0;31mTypeError\u001b[0m                                 Traceback (most recent call last)",
        "\u001b[0;32m/Users/kirill/Backup/projects/snakes2/<ipython-input-12-2a9d55c7e171>\u001b[0m in \u001b[0;36m<module>\u001b[0;34m()\u001b[0m\n\u001b[1;32m      1\u001b[0m \u001b[0;31m# synchronize your local folder with the remote volume\u001b[0m\u001b[0;34m\u001b[0m\u001b[0;34m\u001b[0m\u001b[0m\n\u001b[0;32m----> 2\u001b[0;31m \u001b[0mcloud\u001b[0m\u001b[0;34m.\u001b[0m\u001b[0mvolume\u001b[0m\u001b[0;34m.\u001b[0m\u001b[0msync\u001b[0m\u001b[0;34m(\u001b[0m\u001b[0;34m'~/stockdata/'\u001b[0m\u001b[0;34m)\u001b[0m\u001b[0;34m\u001b[0m\u001b[0m\n\u001b[0m",
        "\u001b[0;31mTypeError\u001b[0m: sync() takes exactly 2 arguments (1 given)"
       ]
      }
     ],
     "prompt_number": 12
    },
    {
     "cell_type": "code",
     "collapsed": false,
     "input": [
      "print cloud.volume.create('graphs', '/graphs')"
     ],
     "language": "python",
     "outputs": [
      {
       "ename": "CloudException",
       "evalue": "Error 1020: A volume already exists with that name",
       "output_type": "pyerr",
       "traceback": [
        "\u001b[0;31m---------------------------------------------------------------------------\u001b[0m\n\u001b[0;31mCloudException\u001b[0m                            Traceback (most recent call last)",
        "\u001b[0;32m/Users/kirill/Backup/projects/snakes2/<ipython-input-6-85beddb53413>\u001b[0m in \u001b[0;36m<module>\u001b[0;34m()\u001b[0m\n\u001b[0;32m----> 1\u001b[0;31m \u001b[0;32mprint\u001b[0m \u001b[0mcloud\u001b[0m\u001b[0;34m.\u001b[0m\u001b[0mvolume\u001b[0m\u001b[0;34m.\u001b[0m\u001b[0mcreate\u001b[0m\u001b[0;34m(\u001b[0m\u001b[0;34m'graphs'\u001b[0m\u001b[0;34m,\u001b[0m \u001b[0;34m'/graphs'\u001b[0m\u001b[0;34m)\u001b[0m\u001b[0;34m\u001b[0m\u001b[0m\n\u001b[0m",
        "\u001b[0;32m/Library/Python/2.7/site-packages/cloud/volume.pyc\u001b[0m in \u001b[0;36mcreate\u001b[0;34m(name, mount_path, desc)\u001b[0m\n\u001b[1;32m    138\u001b[0m         \u001b[0;32mraise\u001b[0m \u001b[0mcloud\u001b[0m\u001b[0;34m.\u001b[0m\u001b[0mCloudException\u001b[0m\u001b[0;34m(\u001b[0m\u001b[0;34m'Volume name must be at least 2 characters.'\u001b[0m\u001b[0;34m)\u001b[0m\u001b[0;34m\u001b[0m\u001b[0m\n\u001b[1;32m    139\u001b[0m     _send_request('create',\n\u001b[0;32m--> 140\u001b[0;31m                   {'name': name, 'mnt_path': mount_path, 'desc': desc or ''})\n\u001b[0m\u001b[1;32m    141\u001b[0m     \u001b[0mcloudLog\u001b[0m\u001b[0;34m.\u001b[0m\u001b[0mdebug\u001b[0m\u001b[0;34m(\u001b[0m\u001b[0;34m'created volume %s'\u001b[0m\u001b[0;34m,\u001b[0m \u001b[0mname\u001b[0m\u001b[0;34m)\u001b[0m\u001b[0;34m\u001b[0m\u001b[0m\n\u001b[1;32m    142\u001b[0m \u001b[0;34m\u001b[0m\u001b[0m\n",
        "\u001b[0;32m/Library/Python/2.7/site-packages/cloud/volume.pyc\u001b[0m in \u001b[0;36m_send_request\u001b[0;34m(request_type, data, jsonize_values)\u001b[0m\n\u001b[1;32m     92\u001b[0m         \u001b[0mdata\u001b[0m \u001b[0;34m=\u001b[0m \u001b[0m_jsonize_values\u001b[0m\u001b[0;34m(\u001b[0m\u001b[0mdata\u001b[0m\u001b[0;34m)\u001b[0m\u001b[0;34m\u001b[0m\u001b[0m\n\u001b[1;32m     93\u001b[0m     \u001b[0mconn\u001b[0m \u001b[0;34m=\u001b[0m \u001b[0mcloud\u001b[0m\u001b[0;34m.\u001b[0m\u001b[0m_getcloudnetconnection\u001b[0m\u001b[0;34m(\u001b[0m\u001b[0;34m)\u001b[0m\u001b[0;34m\u001b[0m\u001b[0m\n\u001b[0;32m---> 94\u001b[0;31m     \u001b[0;32mreturn\u001b[0m \u001b[0mconn\u001b[0m\u001b[0;34m.\u001b[0m\u001b[0msend_request\u001b[0m\u001b[0;34m(\u001b[0m\u001b[0mtype_url\u001b[0m\u001b[0;34m,\u001b[0m \u001b[0mdata\u001b[0m\u001b[0;34m)\u001b[0m\u001b[0;34m\u001b[0m\u001b[0m\n\u001b[0m\u001b[1;32m     95\u001b[0m \u001b[0;34m\u001b[0m\u001b[0m\n\u001b[1;32m     96\u001b[0m \u001b[0;32mdef\u001b[0m \u001b[0m_jsonize_values\u001b[0m\u001b[0;34m(\u001b[0m\u001b[0mdct\u001b[0m\u001b[0;34m)\u001b[0m\u001b[0;34m:\u001b[0m\u001b[0;34m\u001b[0m\u001b[0m\n",
        "\u001b[0;32m/Library/Python/2.7/site-packages/cloud/transport/network.pyc\u001b[0m in \u001b[0;36msend_request\u001b[0;34m(self, url, post_values, get_values, logfunc, raw_response, log_cloud_excp, auth)\u001b[0m\n\u001b[1;32m    482\u001b[0m         \u001b[0;31m#print 'call %s' % url\u001b[0m\u001b[0;34m\u001b[0m\u001b[0;34m\u001b[0m\u001b[0m\n\u001b[1;32m    483\u001b[0m         return self.send_request_helper(url, post_values, headers, raw_response = raw_response, \n\u001b[0;32m--> 484\u001b[0;31m                                         log_cloud_excp = log_cloud_excp)\n\u001b[0m\u001b[1;32m    485\u001b[0m \u001b[0;34m\u001b[0m\u001b[0m\n\u001b[1;32m    486\u001b[0m     \u001b[0;32mdef\u001b[0m \u001b[0mis_simulated\u001b[0m\u001b[0;34m(\u001b[0m\u001b[0mself\u001b[0m\u001b[0;34m)\u001b[0m\u001b[0;34m:\u001b[0m\u001b[0;34m\u001b[0m\u001b[0m\n",
        "\u001b[0;32m/Library/Python/2.7/site-packages/cloud/transport/network.pyc\u001b[0m in \u001b[0;36msend_request_helper\u001b[0;34m(self, url, post_values, headers, raw_response, log_cloud_excp)\u001b[0m\n\u001b[1;32m    358\u001b[0m                     \u001b[0;32mif\u001b[0m \u001b[0merror\u001b[0m\u001b[0;34m:\u001b[0m\u001b[0;34m\u001b[0m\u001b[0m\n\u001b[1;32m    359\u001b[0m                         raise CloudException(error['msg'], status=error['code'], \n\u001b[0;32m--> 360\u001b[0;31m                                          retry=error['retry'], logger=cloudLog)\n\u001b[0m\u001b[1;32m    361\u001b[0m \u001b[0;34m\u001b[0m\u001b[0m\n\u001b[1;32m    362\u001b[0m                     \u001b[0;32melif\u001b[0m \u001b[0mresponse\u001b[0m\u001b[0;34m.\u001b[0m\u001b[0mcode\u001b[0m \u001b[0;34m>\u001b[0m \u001b[0;36m300\u001b[0m\u001b[0;34m:\u001b[0m  \u001b[0;31m# 4xx error without an error_code in body; somnething is wrong\u001b[0m\u001b[0;34m\u001b[0m\u001b[0m\n",
        "\u001b[0;31mCloudException\u001b[0m: Error 1020: A volume already exists with that name"
       ]
      }
     ],
     "prompt_number": 6
    }
   ]
  }
 ]
}