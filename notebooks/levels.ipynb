{
 "metadata": {
  "name": "levels"
 },
 "nbformat": 3,
 "worksheets": [
  {
   "cells": [
    {
     "cell_type": "code",
     "collapsed": false,
     "input": [
      "import glob",
      "import sys",
      "import pickle",
      "import os",
      "from src.logic.state import State",
      "sys.path.append('src')",
      "",
      "def foo(s,m):",
      "    \"\"\" print rm unsolvable levels (without a .pickle with a solution)\"\"\"",
      "    h = s.__hash__()",
      "    p = 'data/graphs/%s.pickle' % h",
      "    if os.path.exists(p):",
      "        (tmp_gr, tmp_sols) = pickle.load(open(p,'rb'))",
      "        print \"# MAP %s has \\t %s solutions\" % (m, tmp_sols[0].__len__()-1)",
      "    else:",
      "        print \"# ERROR: %s not exists (from map %s)\" % (p, m)",
      "        print \"rm %s\" % m",
      "        print \"rm %s\" % p",
      "",
      "def rename(s,m):",
      "    \"\"\" print mv mapname to order_nsnakes-shortestsolution.json \"\"\"",
      "    n_snakes = s.snakes.__len__()",
      "    h = s.__hash__()",
      "    p = 'data/graphs/%s.pickle' % h",
      "    (tmp_gr, tmp_sols) = pickle.load(open(p,'rb'))",
      "    order = tmp_gr.order()",
      "    short = tmp_sols[0].__len__()-1",
      "    newfile = \"data/maps/%s_%s-%s.json\" % (order, n_snakes, short)",
      "    print \"mv %s %s\" % (m, newfile)",
      "",
      "s = State()",
      "for m in glob.glob('data/maps/*.json'):",
      "    s.load_from_json(\"\".join(open(m,'r').readlines()))",
      "    ## foo and rename are NOT DANGEROUS ##",
      "    ",
      "    #foo(s,m) # print rm unsolvable levels",
      "    #rename(s,m) # print mv mapname to order_nsnakes-shortestsolution.json",
      "    "
     ],
     "language": "python",
     "outputs": [
      {
       "output_type": "stream",
       "stream": "stdout",
       "text": [
        "# MAP data/maps/11400_3-34.json has \t 34 solutions",
        "mv data/maps/11400_3-34.json data/maps/11400_3-34.json"
       ]
      },
      {
       "output_type": "stream",
       "stream": "stdout",
       "text": [
        "",
        "# MAP data/maps/1960_3-16.json has \t 16 solutions"
       ]
      },
      {
       "output_type": "stream",
       "stream": "stdout",
       "text": [
        "",
        "mv data/maps/1960_3-16.json data/maps/1960_3-16.json"
       ]
      },
      {
       "output_type": "stream",
       "stream": "stdout",
       "text": [
        "",
        "# MAP data/maps/19736_3-15.json has \t 15 solutions"
       ]
      },
      {
       "output_type": "stream",
       "stream": "stdout",
       "text": [
        "",
        "mv data/maps/19736_3-15.json data/maps/19736_3-15.json"
       ]
      },
      {
       "output_type": "stream",
       "stream": "stdout",
       "text": [
        "",
        "# MAP data/maps/2230_2-11.json has \t 11 solutions"
       ]
      },
      {
       "output_type": "stream",
       "stream": "stdout",
       "text": [
        "",
        "mv data/maps/2230_2-11.json data/maps/2230_2-11.json"
       ]
      },
      {
       "output_type": "stream",
       "stream": "stdout",
       "text": [
        "",
        "# MAP data/maps/229_3-12.json has \t 12 solutions",
        "mv data/maps/229_3-12.json data/maps/229_3-12.json",
        "# MAP data/maps/22_1-5.json has \t 5 solutions",
        "mv data/maps/22_1-5.json data/maps/22_1-5.json",
        "# MAP data/maps/25880_4-40.json has \t 40 solutions"
       ]
      },
      {
       "output_type": "stream",
       "stream": "stdout",
       "text": [
        "",
        "mv data/maps/25880_4-40.json data/maps/25880_4-40.json"
       ]
      },
      {
       "output_type": "stream",
       "stream": "stdout",
       "text": [
        "",
        "# MAP data/maps/2788_3-23.json has \t 23 solutions"
       ]
      },
      {
       "output_type": "stream",
       "stream": "stdout",
       "text": [
        "",
        "mv data/maps/2788_3-23.json data/maps/2788_3-23.json"
       ]
      },
      {
       "output_type": "stream",
       "stream": "stdout",
       "text": [
        "",
        "# MAP data/maps/320_2-15.json has \t 15 solutions",
        "mv data/maps/320_2-15.json data/maps/320_2-15.json"
       ]
      },
      {
       "output_type": "stream",
       "stream": "stdout",
       "text": [
        "",
        "# MAP data/maps/340_4-10.json has \t 10 solutions",
        "mv data/maps/340_4-10.json data/maps/340_4-10.json",
        "# MAP data/maps/342_3-13.json has \t 13 solutions"
       ]
      },
      {
       "output_type": "stream",
       "stream": "stdout",
       "text": [
        "",
        "mv data/maps/342_3-13.json data/maps/342_3-13.json",
        "# MAP data/maps/36_2-8.json has \t 8 solutions",
        "mv data/maps/36_2-8.json data/maps/36_2-8.json",
        "# MAP data/maps/42_3-6.json has \t 6 solutions",
        "mv data/maps/42_3-6.json data/maps/42_3-6.json",
        "# MAP data/maps/4496_3-20.json has \t 20 solutions"
       ]
      },
      {
       "output_type": "stream",
       "stream": "stdout",
       "text": [
        "",
        "mv data/maps/4496_3-20.json data/maps/4496_3-20.json"
       ]
      },
      {
       "output_type": "stream",
       "stream": "stdout",
       "text": [
        "",
        "# MAP data/maps/7916_3-32.json has \t 32 solutions"
       ]
      },
      {
       "output_type": "stream",
       "stream": "stdout",
       "text": [
        "",
        "mv data/maps/7916_3-32.json data/maps/7916_3-32.json"
       ]
      },
      {
       "output_type": "stream",
       "stream": "stdout",
       "text": [
        "",
        "# MAP data/maps/8188_3-21.json has \t 21 solutions"
       ]
      },
      {
       "output_type": "stream",
       "stream": "stdout",
       "text": [
        "",
        "mv data/maps/8188_3-21.json data/maps/8188_3-21.json"
       ]
      },
      {
       "output_type": "stream",
       "stream": "stdout",
       "text": [
        ""
       ]
      }
     ],
     "prompt_number": 52
    }
   ]
  }
 ]
}