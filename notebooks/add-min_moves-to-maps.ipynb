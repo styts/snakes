{
 "metadata": {
  "name": "add-min_moves-to-maps"
 },
 "nbformat": 3,
 "nbformat_minor": 0,
 "worksheets": [
  {
   "cells": [
    {
     "cell_type": "code",
     "collapsed": false,
     "input": [
      "\"\"\"\n",
      "Add min_moves from pickle file to json file\n",
      "\"\"\"\n",
      "\n",
      "from src.logic.state import State\n",
      "from src.solve.utils import process_json\n",
      "\n",
      "def update_moves(json_data, min_moves, fn):\n",
      "    s = State()\n",
      "    s.load_from_json(json_data)\n",
      "    if s.min_moves == -1:\n",
      "        s.min_moves = min_moves\n",
      "        s.save_to_json(\"data/maps/%s\" % fn)\n",
      "    print fn, \"has\", min_moves, \"min_moves\"\n",
      "        \n",
      "from glob import glob\n",
      "import os\n",
      "\n",
      "for fn in glob(\"data/maps/*.json\"):\n",
      "    fn = os.path.basename(fn)\n",
      "    json_data = \"\\n\".join(open(\"data/maps/%s\"%fn).readlines())\n",
      "    if \"min_moves\" not in json_data and not fn.startswith(\"n12-s\"): #achtung\n",
      "        print fn\n",
      "        min_moves = process_json(json_data, False, ignore_pickle=False)\n",
      "        update_moves(json_data, min_moves, fn)\n"
     ],
     "language": "python",
     "metadata": {},
     "outputs": [
      {
       "output_type": "stream",
       "stream": "stdout",
       "text": [
        "n6-s4-06d2202775.json\n",
        "06d22027757e78032335f35221eefe18\n",
        "Unpickled "
       ]
      },
      {
       "output_type": "stream",
       "stream": "stdout",
       "text": [
        " var/graphs/06d22027757e78032335f35221eefe18.pickle\n",
        "shortest: 58 order: 183168\n",
        "Drawing... "
       ]
      },
      {
       "output_type": "stream",
       "stream": "stdout",
       "text": [
        "done drawing\n",
        "n6-s4-06d2202775.json"
       ]
      },
      {
       "output_type": "stream",
       "stream": "stdout",
       "text": [
        " has 58 min_moves\n",
        "tempstate.json\n",
        "a559712e1a082b752ce996355de4eaed\n",
        "Unpickled "
       ]
      },
      {
       "output_type": "stream",
       "stream": "stdout",
       "text": [
        " var/graphs/a559712e1a082b752ce996355de4eaed.pickle\n",
        "shortest: 26 order: 1356\n",
        "Drawing... "
       ]
      },
      {
       "output_type": "stream",
       "stream": "stdout",
       "text": [
        "done drawing\n",
        "tempstate.json"
       ]
      },
      {
       "output_type": "stream",
       "stream": "stdout",
       "text": [
        " has 26 min_moves\n"
       ]
      }
     ],
     "prompt_number": 6
    },
    {
     "cell_type": "code",
     "collapsed": false,
     "input": [
      "##### sync home \n",
      "#     files that we don't have\n",
      "\n",
      "import cloud\n",
      "import os\n",
      "files = cloud.files.list()\n",
      "for f in files:\n",
      "    if f.endswith(\".pickle\"):\n",
      "        if not os.path.exists(\"var/graphs/%s\" % f):\n",
      "            print \"getting\", f, \"...\",\n",
      "            cloud.files.get(f, \"var/graphs/%s\" %f)\n",
      "            print \"ok\""
     ],
     "language": "python",
     "metadata": {},
     "outputs": [
      {
       "output_type": "stream",
       "stream": "stdout",
       "text": [
        "getting 06d22027757e78032335f35221eefe18.pickle ... "
       ]
      },
      {
       "output_type": "stream",
       "stream": "stdout",
       "text": [
        "ok\n",
        "getting 89630f48daf23fa15df61bda163e2250.pickle ... "
       ]
      },
      {
       "output_type": "stream",
       "stream": "stdout",
       "text": [
        "ok\n"
       ]
      }
     ],
     "prompt_number": 1
    }
   ],
   "metadata": {}
  }
 ]
}