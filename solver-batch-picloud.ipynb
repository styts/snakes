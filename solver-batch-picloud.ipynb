{
 "metadata": {
  "name": "solver-batch-picloud"
 },
 "nbformat": 3,
 "worksheets": [
  {
   "cells": [
    {
     "cell_type": "code",
     "collapsed": false,
     "input": [
      "from src.logic.state import State",
      "s = State()",
      "",
      "from src.solve.solver import Solver",
      "slv = Solver(quit_on_first=False)",
      "",
      "### cloud or local ###",
      "use_cloud = True",
      "#use_cloud = False"
     ],
     "language": "python",
     "outputs": [
      {
       "output_type": "stream",
       "stream": "stderr",
       "text": [
        "Exception TypeError: \"'NoneType' object is not iterable\" in "
       ]
      }
     ],
     "prompt_number": 2
    },
    {
     "cell_type": "code",
     "collapsed": false,
     "input": [
      "import cloud ",
      "",
      "def process(json_data):",
      "    global s, slv, use_cloud",
      "    s.load_from_json(json_data)",
      "    #return",
      "    slv.set_state(s)",
      "    sols = slv.solve()",
      "    ",
      "    return slv.draw_graph(filename='graph-%s.png' % s.__hash__(), use_cloud=use_cloud)",
      "",
      "import glob, os",
      "maps = glob.glob(os.path.join(os.getcwd(),'data','maps')+\"/*.json\")",
      "for fn in maps[:1]:",
      "    print fn",
      "    json_data = open(fn,'r').readlines()",
      "    json_data = \"\\n\".join(json_data)",
      "    print json_data",
      "    if not use_cloud:",
      "        process(json_data)",
      "    else:",
      "        pid = cloud.call(process, json_data, _env='pygame_env', _profile=True)",
      "        print pid"
     ],
     "language": "python",
     "outputs": [
      {
       "output_type": "stream",
       "stream": "stdout",
       "text": [
        "/Users/kirill/Backup/projects/snakes2/data/maps/n3-s2.json",
        "{\"map\": [[\"g\", 1, 0], [\"g\", 0, 0], [\"g\", 0, 0]], \"snakes\": [{\"color\": \"B\", \"elements\": [[1, 1], [2, 1], [2, 0]]}, {\"color\": \"G\", \"elements\": [[0, 2], [1, 2], [2, 2]]}]}",
        "20"
       ]
      },
      {
       "output_type": "stream",
       "stream": "stdout",
       "text": [
        ""
       ]
      }
     ],
     "prompt_number": 3
    },
    {
     "cell_type": "code",
     "collapsed": false,
     "input": [
      "print cloud.status(pid)",
      "cloud.result(pid)"
     ],
     "language": "python",
     "outputs": [
      {
       "output_type": "stream",
       "stream": "stdout",
       "text": [
        "done"
       ]
      }
     ],
     "prompt_number": 5
    },
    {
     "cell_type": "code",
     "collapsed": false,
     "input": [
      "l = cloud.files.list()"
     ],
     "language": "python",
     "outputs": [],
     "prompt_number": 7
    },
    {
     "cell_type": "code",
     "collapsed": false,
     "input": [
      "for f in l:",
      "    print f",
      "    cloud.files.get(f,\"cloud_graphs/%s\"%f)"
     ],
     "language": "python",
     "outputs": [],
     "prompt_number": 10
    }
   ]
  }
 ]
}