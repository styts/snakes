{
 "metadata": {
  "name": "solver-batch-picloud"
 },
 "nbformat": 3,
 "worksheets": [
  {
   "cells": [
    {
     "cell_type": "code",
     "collapsed": false,
     "input": [
      "### cloud or local ###",
      "#use_cloud = True",
      "use_cloud = False",
      "",
      "from src.logic.state import State",
      "s = State()",
      "",
      "from src.solve.solver import Solver",
      "slv = Solver(quit_on_first=False,use_cloud=use_cloud)"
     ],
     "language": "python",
     "outputs": [],
     "prompt_number": 3
    },
    {
     "cell_type": "code",
     "collapsed": false,
     "input": [
      "import cloud ",
      "",
      "def process(json_data):",
      "    global s, slv",
      "    s.load_from_json(json_data)",
      "    slv.set_state(s)",
      "    sols = slv.solve()",
      "    slv.draw_graph(filename='tmp/%s.png' % s.__hash__())",
      "",
      "import glob, os",
      "maps = glob.glob(os.path.join(os.getcwd(),'data','maps')+\"/*.json\")",
      "for fn in maps[:1]:",
      "    print fn",
      "    json_data = open(fn,'r').readlines()",
      "    json_data = \"\\n\".join(json_data)",
      "    print json_data",
      "    if not use_cloud:",
      "        process(json_data)",
      "    else:",
      "        pid = cloud.call(process, json_data, _env='pygame_env', _profile=True)",
      "        print pid"
     ],
     "language": "python",
     "outputs": [
      {
       "output_type": "stream",
       "stream": "stdout",
       "text": [
        "/Users/kirill/Backup/projects/snakes2/data/maps/n3-s2.json",
        "{\"map\": [[\"g\", 1, 0], [\"g\", 0, 0], [\"g\", 0, 0]], \"snakes\": [{\"color\": \"B\", \"elements\": [[1, 1], [2, 1], [2, 0]]}, {\"color\": \"G\", \"elements\": [[0, 2], [1, 2], [2, 2]]}]}",
        "Populating... "
       ]
      },
      {
       "output_type": "stream",
       "stream": "stdout",
       "text": [
        "Solving... shortest: 8 order: 36",
        "Pickling... done",
        "Drawing... "
       ]
      },
      {
       "output_type": "stream",
       "stream": "stdout",
       "text": [
        "done drawing"
       ]
      }
     ],
     "prompt_number": 6
    },
    {
     "cell_type": "code",
     "collapsed": false,
     "input": [
      "print cloud.status(pid)",
      "cloud.result(pid)"
     ],
     "language": "python",
     "outputs": [
      {
       "output_type": "stream",
       "stream": "stdout",
       "text": [
        "done"
       ]
      }
     ],
     "prompt_number": 5
    },
    {
     "cell_type": "code",
     "collapsed": false,
     "input": [
      "l = cloud.files.list()"
     ],
     "language": "python",
     "outputs": [],
     "prompt_number": 7
    },
    {
     "cell_type": "code",
     "collapsed": false,
     "input": [
      "for f in l:",
      "    print f",
      "    cloud.files.get(f,\"cloud_graphs/%s\"%f)"
     ],
     "language": "python",
     "outputs": [],
     "prompt_number": 10
    },
    {
     "cell_type": "code",
     "collapsed": true,
     "input": [
      "# unpickling",
      "import pickle",
      "pf = 'tmp/748b7564f58ae8dbe183a2c222cb7bf7.pickle'",
      "psol = pickle.load(open(pf,'rb'))"
     ],
     "language": "python",
     "outputs": [],
     "prompt_number": 3
    },
    {
     "cell_type": "code",
     "collapsed": false,
     "input": [
      "psol.sols"
     ],
     "language": "python",
     "outputs": [
      {
       "output_type": "pyout",
       "prompt_number": 13,
       "text": [
        "[['d2f57a7bd583eb546233ef4fc56d5144',",
        "  'd4a22f85aae0b3fa8babce98f22891be',",
        "  'c2c1afeae5f6f3808b2915524093128a',",
        "  'ca6a18cb8ee529db72af1669159bcd66',",
        "  '9c1c1ffb81987ac29c8328532be45cca',",
        "  '44497c30888472c1e73ff8324f47236a',",
        "  '7c684fcb77efb2e7a5f15f00a31e2e8f',",
        "  '92ec87ba976d5f38f35e651840bc7d19',",
        "  '7b485b5e936e603267eebbe1365ccb6b'],",
        " ['d2f57a7bd583eb546233ef4fc56d5144',",
        "  'd4a22f85aae0b3fa8babce98f22891be',",
        "  'c2c1afeae5f6f3808b2915524093128a',",
        "  'ca6a18cb8ee529db72af1669159bcd66',",
        "  '9c1c1ffb81987ac29c8328532be45cca',",
        "  '44497c30888472c1e73ff8324f47236a',",
        "  '7c684fcb77efb2e7a5f15f00a31e2e8f',",
        "  '92ec87ba976d5f38f35e651840bc7d19',",
        "  '7b485b5e936e603267eebbe1365ccb6b',",
        "  '63c2a78abcf4a57f94b5e0ab7f08f689'],",
        " ['d2f57a7bd583eb546233ef4fc56d5144',",
        "  'd4a22f85aae0b3fa8babce98f22891be',",
        "  'c2c1afeae5f6f3808b2915524093128a',",
        "  'ca6a18cb8ee529db72af1669159bcd66',",
        "  '9c1c1ffb81987ac29c8328532be45cca',",
        "  '44497c30888472c1e73ff8324f47236a',",
        "  '7c684fcb77efb2e7a5f15f00a31e2e8f',",
        "  '92ec87ba976d5f38f35e651840bc7d19',",
        "  '7b485b5e936e603267eebbe1365ccb6b',",
        "  '63c2a78abcf4a57f94b5e0ab7f08f689',",
        "  'b22b465b20eae6353c20028202a6508b'],",
        " ['d2f57a7bd583eb546233ef4fc56d5144',",
        "  'd4a22f85aae0b3fa8babce98f22891be',",
        "  'c2c1afeae5f6f3808b2915524093128a',",
        "  'ca6a18cb8ee529db72af1669159bcd66',",
        "  '9c1c1ffb81987ac29c8328532be45cca',",
        "  '44497c30888472c1e73ff8324f47236a',",
        "  '7c684fcb77efb2e7a5f15f00a31e2e8f',",
        "  '92ec87ba976d5f38f35e651840bc7d19',",
        "  '7b485b5e936e603267eebbe1365ccb6b',",
        "  '63c2a78abcf4a57f94b5e0ab7f08f689',",
        "  '6388a6f1c51a25e55b88e2044c4ecf99'],",
        " ['d2f57a7bd583eb546233ef4fc56d5144',",
        "  'd4a22f85aae0b3fa8babce98f22891be',",
        "  'c2c1afeae5f6f3808b2915524093128a',",
        "  'ca6a18cb8ee529db72af1669159bcd66',",
        "  '9c1c1ffb81987ac29c8328532be45cca',",
        "  '44497c30888472c1e73ff8324f47236a',",
        "  '7c684fcb77efb2e7a5f15f00a31e2e8f',",
        "  '92ec87ba976d5f38f35e651840bc7d19',",
        "  '7b485b5e936e603267eebbe1365ccb6b',",
        "  '63c2a78abcf4a57f94b5e0ab7f08f689',",
        "  '6388a6f1c51a25e55b88e2044c4ecf99',",
        "  '442a5dc8308332f160085318682c8de9'],",
        " ['d2f57a7bd583eb546233ef4fc56d5144',",
        "  'd4a22f85aae0b3fa8babce98f22891be',",
        "  'c2c1afeae5f6f3808b2915524093128a',",
        "  'ca6a18cb8ee529db72af1669159bcd66',",
        "  '9c1c1ffb81987ac29c8328532be45cca',",
        "  '44497c30888472c1e73ff8324f47236a',",
        "  '7c684fcb77efb2e7a5f15f00a31e2e8f',",
        "  '92ec87ba976d5f38f35e651840bc7d19',",
        "  '7b485b5e936e603267eebbe1365ccb6b',",
        "  '63c2a78abcf4a57f94b5e0ab7f08f689',",
        "  '6388a6f1c51a25e55b88e2044c4ecf99',",
        "  '442a5dc8308332f160085318682c8de9',",
        "  '131031a0b385f82f79091611c040aadc']]"
       ]
      }
     ],
     "prompt_number": 13
    }
   ]
  }
 ]
}