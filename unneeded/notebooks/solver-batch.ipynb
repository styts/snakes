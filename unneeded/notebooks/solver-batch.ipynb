{
 "metadata": {
  "name": "solver-batch"
 },
 "nbformat": 3,
 "worksheets": [
  {
   "cells": [
    {
     "cell_type": "code",
     "collapsed": false,
     "input": [
      "from src.logic.state import State",
      "s = State()",
      "",
      "from src.solve.solver import Solver",
      "slv = Solver(quit_on_first=False)"
     ],
     "language": "python",
     "outputs": [],
     "prompt_number": 1
    },
    {
     "cell_type": "code",
     "collapsed": false,
     "input": [
      "import glob, os",
      "import cloud",
      "maps = glob.glob(os.path.join(os.getcwd(),'data','maps')+\"/*.json\")",
      "for fn in maps:",
      "    s.load_from_json_file(fn)",
      "    print fn",
      "    continue",
      "    slv.set_state(s)",
      "    sols = slv.solve()",
      "    ",
      "    slv.draw_graph(\"tmp/graph-%s.png\" % s.__hash__())"
     ],
     "language": "python",
     "outputs": [
      {
       "output_type": "stream",
       "stream": "stdout",
       "text": [
        "/Users/kirill/Backup/projects/snakes2/data/maps/n3-s2.json",
        "/Users/kirill/Backup/projects/snakes2/data/maps/n3-s3.json",
        "/Users/kirill/Backup/projects/snakes2/data/maps/n4-s3-60b3a7c0de.json",
        "/Users/kirill/Backup/projects/snakes2/data/maps/n4-s3-984a283412.json",
        "/Users/kirill/Backup/projects/snakes2/data/maps/n4-s4-ac5804c789.json",
        "/Users/kirill/Backup/projects/snakes2/data/maps/n5-s2-5b0a09ddac.json",
        "/Users/kirill/Backup/projects/snakes2/data/maps/n5-s3-43a2d5e6e0.json",
        "/Users/kirill/Backup/projects/snakes2/data/maps/n5-s3-c6a7c3dd07.json",
        "/Users/kirill/Backup/projects/snakes2/data/maps/n5-s3-d1e0db4160.json",
        "/Users/kirill/Backup/projects/snakes2/data/maps/n5-s4-c1a968bb8f.json",
        "/Users/kirill/Backup/projects/snakes2/data/maps/n5-s5-30d16a559b.json",
        "/Users/kirill/Backup/projects/snakes2/data/maps/n5-s5-9fcda40f76.json",
        "/Users/kirill/Backup/projects/snakes2/data/maps/n6-s2-01841c7d4e.json",
        "/Users/kirill/Backup/projects/snakes2/data/maps/n6-s2-29055f02c2.json",
        "/Users/kirill/Backup/projects/snakes2/data/maps/n6-s2-55c969dac9.json",
        "/Users/kirill/Backup/projects/snakes2/data/maps/n6-s2-c5bea536a8.json",
        "/Users/kirill/Backup/projects/snakes2/data/maps/n6-s3-7f8e8bacf5.json",
        "/Users/kirill/Backup/projects/snakes2/data/maps/n6-s3-975559d591.json",
        "/Users/kirill/Backup/projects/snakes2/data/maps/n6-s3-c58c3bcb90.json",
        "/Users/kirill/Backup/projects/snakes2/data/maps/n6-s4-06d2202775.json",
        "/Users/kirill/Backup/projects/snakes2/data/maps/n6-s4-33c41db7e7.json",
        "/Users/kirill/Backup/projects/snakes2/data/maps/n6-s4-605af9092f.json",
        "/Users/kirill/Backup/projects/snakes2/data/maps/tempstate.json"
       ]
      }
     ],
     "prompt_number": 3
    }
   ]
  }
 ]
}